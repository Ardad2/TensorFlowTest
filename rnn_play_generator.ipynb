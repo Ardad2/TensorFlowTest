{
  "nbformat": 4,
  "nbformat_minor": 0,
  "metadata": {
    "colab": {
      "provenance": [],
      "authorship_tag": "ABX9TyPCA/GcVDpc8N/2oVBhyRUt"
    },
    "kernelspec": {
      "name": "python3",
      "display_name": "Python 3"
    },
    "language_info": {
      "name": "python"
    }
  },
  "cells": [
    {
      "cell_type": "code",
      "execution_count": 1,
      "metadata": {
        "colab": {
          "base_uri": "https://localhost:8080/"
        },
        "id": "aEvLxgeKb-C5",
        "outputId": "35eea5c2-e9b6-43b7-db24-f35039578ab3"
      },
      "outputs": [
        {
          "output_type": "stream",
          "name": "stdout",
          "text": [
            "Colab only includes TensorFlow 2.x; %tensorflow_version has no effect.\n"
          ]
        }
      ],
      "source": [
        "%tensorflow_version 2.x  # this line is not required unless you are in a notebook\n",
        "from keras.preprocessing import sequence\n",
        "import keras\n",
        "import tensorflow as tf\n",
        "import os\n",
        "import numpy as np"
      ]
    },
    {
      "cell_type": "code",
      "source": [
        "#Add dataset\n",
        "\n",
        "path_to_file = tf.keras.utils.get_file('shakespeare.txt', 'https://storage.googleapis.com/download.tensorflow.org/data/shakespeare.txt')"
      ],
      "metadata": {
        "colab": {
          "base_uri": "https://localhost:8080/"
        },
        "id": "nSVKOcMBcLxh",
        "outputId": "00eb1890-cdca-40f2-c0cc-a01f93bd21b5"
      },
      "execution_count": 2,
      "outputs": [
        {
          "output_type": "stream",
          "name": "stdout",
          "text": [
            "Downloading data from https://storage.googleapis.com/download.tensorflow.org/data/shakespeare.txt\n",
            "1115394/1115394 [==============================] - 0s 0us/step\n"
          ]
        }
      ]
    },
    {
      "cell_type": "code",
      "source": [
        "# Read, then decode for py2 compat.\n",
        "text = open(path_to_file, 'rb').read().decode(encoding='utf-8')\n",
        "# length of text is the number of characters in it\n",
        "print ('Length of text: {} characters'.format(len(text)))\n",
        "\n",
        "\n",
        "# Take a look at the first 250 characters in text\n",
        "print(text[:250])\n"
      ],
      "metadata": {
        "colab": {
          "base_uri": "https://localhost:8080/"
        },
        "id": "a3jeaPcAcV-W",
        "outputId": "4c063f41-4471-45c1-8e90-e0743a02fdb3"
      },
      "execution_count": 3,
      "outputs": [
        {
          "output_type": "stream",
          "name": "stdout",
          "text": [
            "Length of text: 1115394 characters\n",
            "First Citizen:\n",
            "Before we proceed any further, hear me speak.\n",
            "\n",
            "All:\n",
            "Speak, speak.\n",
            "\n",
            "First Citizen:\n",
            "You are all resolved rather to die than to famish?\n",
            "\n",
            "All:\n",
            "Resolved. resolved.\n",
            "\n",
            "First Citizen:\n",
            "First, you know Caius Marcius is chief enemy to the people.\n",
            "\n"
          ]
        }
      ]
    },
    {
      "cell_type": "code",
      "source": [
        "#encode the text\n",
        "\n",
        "vocab = sorted(set(text)) #Sort all unique characters in the text\n",
        "# Creating a mapping from unique characters to indices\n",
        "char2idx = {u:i for i, u in enumerate(vocab)}\n",
        "idx2char = np.array(vocab)\n",
        "\n",
        "def text_to_int(text):\n",
        "  return np.array([char2idx[c] for c in text])\n",
        "\n",
        "text_as_int = text_to_int(text)\n",
        "\n",
        "\n",
        "# lets look at how part of our text is encoded\n",
        "print(\"Text:\", text[:13])\n",
        "print(\"Encoded:\", text_to_int(text[:13]))\n",
        "\n",
        "#convert the numeric values also to text\n",
        "\n",
        "def int_to_text(ints):\n",
        "  try:\n",
        "    ints = ints.numpy()\n",
        "  except:\n",
        "    pass\n",
        "  return ''.join(idx2char[ints])\n",
        "\n",
        "print(int_to_text(text_as_int[:13]))\n",
        "\n"
      ],
      "metadata": {
        "colab": {
          "base_uri": "https://localhost:8080/"
        },
        "id": "5xkvzKo8cbO0",
        "outputId": "e80469c2-2801-46d6-d8b3-18c0e88af6b7"
      },
      "execution_count": 4,
      "outputs": [
        {
          "output_type": "stream",
          "name": "stdout",
          "text": [
            "Text: First Citizen\n",
            "Encoded: [18 47 56 57 58  1 15 47 58 47 64 43 52]\n",
            "First Citizen\n"
          ]
        }
      ]
    },
    {
      "cell_type": "code",
      "source": [
        "#Create training examples\n",
        "\n",
        "#Our first step will be to create a stream of characters from our text data.\n",
        "\n",
        "\n",
        "seq_length = 100  # length of sequence for a training example\n",
        "examples_per_epoch = len(text)//(seq_length+1)\n",
        "\n",
        "# Create training examples / targets\n",
        "char_dataset = tf.data.Dataset.from_tensor_slices(text_as_int)\n",
        "\n",
        "#Next we can use the batch method to turn this stream of characters into batches of desired length.\n",
        "\n",
        "\n",
        "sequences = char_dataset.batch(seq_length+1, drop_remainder=True)\n",
        "\n",
        "#Now we need to use these sequences of length 101 and split them into input and output.\n",
        "\n",
        "\n",
        "def split_input_target(chunk):  # for the example: hello\n",
        "    input_text = chunk[:-1]  # hell\n",
        "    target_text = chunk[1:]  # ello\n",
        "    return input_text, target_text  # hell, ello\n",
        "\n",
        "dataset = sequences.map(split_input_target)  # we use map to apply the above function to every entry\n",
        "\n",
        "\n",
        "for x, y in dataset.take(2):\n",
        "  print(\"\\n\\nEXAMPLE\\n\")\n",
        "  print(\"INPUT\")\n",
        "  print(int_to_text(x))\n",
        "  print(\"\\nOUTPUT\")\n",
        "  print(int_to_text(y))\n",
        "\n",
        "#Finally we need to make training batches.\n",
        "\n",
        "\n",
        "BATCH_SIZE = 64\n",
        "VOCAB_SIZE = len(vocab)  # vocab is number of unique characters\n",
        "EMBEDDING_DIM = 256\n",
        "RNN_UNITS = 1024\n",
        "\n",
        "# Buffer size to shuffle the dataset\n",
        "# (TF data is designed to work with possibly infinite sequences,\n",
        "# so it doesn't attempt to shuffle the entire sequence in memory. Instead,\n",
        "# it maintains a buffer in which it shuffles elements).\n",
        "BUFFER_SIZE = 10000\n",
        "\n",
        "data = dataset.shuffle(BUFFER_SIZE).batch(BATCH_SIZE, drop_remainder=True)\n"
      ],
      "metadata": {
        "colab": {
          "base_uri": "https://localhost:8080/"
        },
        "id": "0c4VxrfXccLi",
        "outputId": "9fd49152-39d1-443c-a3e6-bf7f465d738e"
      },
      "execution_count": 5,
      "outputs": [
        {
          "output_type": "stream",
          "name": "stdout",
          "text": [
            "\n",
            "\n",
            "EXAMPLE\n",
            "\n",
            "INPUT\n",
            "First Citizen:\n",
            "Before we proceed any further, hear me speak.\n",
            "\n",
            "All:\n",
            "Speak, speak.\n",
            "\n",
            "First Citizen:\n",
            "You\n",
            "\n",
            "OUTPUT\n",
            "irst Citizen:\n",
            "Before we proceed any further, hear me speak.\n",
            "\n",
            "All:\n",
            "Speak, speak.\n",
            "\n",
            "First Citizen:\n",
            "You \n",
            "\n",
            "\n",
            "EXAMPLE\n",
            "\n",
            "INPUT\n",
            "are all resolved rather to die than to famish?\n",
            "\n",
            "All:\n",
            "Resolved. resolved.\n",
            "\n",
            "First Citizen:\n",
            "First, you \n",
            "\n",
            "OUTPUT\n",
            "re all resolved rather to die than to famish?\n",
            "\n",
            "All:\n",
            "Resolved. resolved.\n",
            "\n",
            "First Citizen:\n",
            "First, you k\n"
          ]
        }
      ]
    },
    {
      "cell_type": "code",
      "source": [
        "#Building the model\n",
        "\n",
        "def build_model(vocab_size, embedding_dim, rnn_units, batch_size):\n",
        "  model = tf.keras.Sequential([\n",
        "    tf.keras.layers.Embedding(vocab_size, embedding_dim,\n",
        "                              batch_input_shape=[batch_size, None]),\n",
        "    tf.keras.layers.LSTM(rnn_units,\n",
        "                        return_sequences=True,\n",
        "                        stateful=True,\n",
        "                        recurrent_initializer='glorot_uniform'),\n",
        "    tf.keras.layers.Dense(vocab_size)\n",
        "  ])\n",
        "  return model\n",
        "\n",
        "model = build_model(VOCAB_SIZE,EMBEDDING_DIM, RNN_UNITS, BATCH_SIZE)\n",
        "model.summary()\n"
      ],
      "metadata": {
        "id": "WfIgkAYmdIAc",
        "colab": {
          "base_uri": "https://localhost:8080/"
        },
        "outputId": "83c8ce0a-fbec-4348-ea9d-194e7c32c443"
      },
      "execution_count": 6,
      "outputs": [
        {
          "output_type": "stream",
          "name": "stdout",
          "text": [
            "Model: \"sequential\"\n",
            "_________________________________________________________________\n",
            " Layer (type)                Output Shape              Param #   \n",
            "=================================================================\n",
            " embedding (Embedding)       (64, None, 256)           16640     \n",
            "                                                                 \n",
            " lstm (LSTM)                 (64, None, 1024)          5246976   \n",
            "                                                                 \n",
            " dense (Dense)               (64, None, 65)            66625     \n",
            "                                                                 \n",
            "=================================================================\n",
            "Total params: 5330241 (20.33 MB)\n",
            "Trainable params: 5330241 (20.33 MB)\n",
            "Non-trainable params: 0 (0.00 Byte)\n",
            "_________________________________________________________________\n"
          ]
        }
      ]
    },
    {
      "cell_type": "code",
      "source": [
        "#Creating a loss function\n",
        "\n",
        "for input_example_batch, target_example_batch in data.take(1):\n",
        "  example_batch_predictions = model(input_example_batch)  # ask our model for a prediction on our first batch of training data (64 entries)\n",
        "  print(example_batch_predictions.shape, \"# (batch_size, sequence_length, vocab_size)\")  # print out the output shape\n",
        "\n",
        "\n",
        "# we can see that the predicition is an array of 64 arrays, one for each entry in the batch\n",
        "print(len(example_batch_predictions))\n",
        "print(example_batch_predictions)\n",
        "\n",
        "\n",
        "# lets examine one prediction\n",
        "pred = example_batch_predictions[0]\n",
        "print(len(pred))\n",
        "print(pred)\n",
        "# notice this is a 2d array of length 100, where each interior array is the prediction for the next character at each time step\n",
        "\n",
        "\n",
        "# and finally well look at a prediction at the first timestep\n",
        "time_pred = pred[0]\n",
        "print(len(time_pred))\n",
        "print(time_pred)\n",
        "# and of course its 65 values representing the probabillity of each character occuring next\n",
        "\n",
        "\n",
        "# If we want to determine the predicted character we need to sample the output distribution (pick a value based on probabillity)\n",
        "sampled_indices = tf.random.categorical(pred, num_samples=1)\n",
        "\n",
        "# now we can reshape that array and convert all the integers to numbers to see the actual characters\n",
        "sampled_indices = np.reshape(sampled_indices, (1, -1))[0]\n",
        "predicted_chars = int_to_text(sampled_indices)\n",
        "\n",
        "predicted_chars  # and this is what the model predicted for training sequence 1\n",
        "\n",
        "def loss(labels, logits):\n",
        "  return tf.keras.losses.sparse_categorical_crossentropy(labels, logits, from_logits=True)\n"
      ],
      "metadata": {
        "colab": {
          "base_uri": "https://localhost:8080/"
        },
        "id": "mA09qJJ9y3_i",
        "outputId": "eb051525-1961-41c3-ad3d-59e39d1d5535"
      },
      "execution_count": 7,
      "outputs": [
        {
          "output_type": "stream",
          "name": "stdout",
          "text": [
            "(64, 100, 65) # (batch_size, sequence_length, vocab_size)\n",
            "64\n",
            "tf.Tensor(\n",
            "[[[ 8.51813424e-03  9.22806794e-04  4.41507064e-03 ...  3.51878488e-03\n",
            "   -7.73935171e-05 -1.57616416e-03]\n",
            "  [ 1.21819489e-02  5.67316450e-03  5.08636329e-03 ... -3.69228050e-03\n",
            "    3.07256822e-03 -1.65789051e-03]\n",
            "  [ 7.84996804e-03  8.41639936e-03  1.19384881e-02 ... -2.76410533e-03\n",
            "    4.06258367e-03  4.71816026e-03]\n",
            "  ...\n",
            "  [ 3.89561011e-03 -3.05102626e-03  1.13265859e-02 ...  4.63142060e-03\n",
            "   -2.49358290e-03  7.97421322e-04]\n",
            "  [ 3.77230905e-03  2.26248242e-03  9.40172095e-03 ...  2.41692597e-03\n",
            "   -3.02832434e-03  1.07868284e-03]\n",
            "  [ 7.92436767e-03  6.55796146e-03  8.34917277e-03 ... -3.96231748e-03\n",
            "    1.96966575e-03  2.23919749e-04]]\n",
            "\n",
            " [[ 2.69546686e-03  2.73153954e-03 -2.11212318e-03 ... -5.35219675e-03\n",
            "    2.28166324e-03  3.32450913e-03]\n",
            "  [-3.84354475e-03  1.07010663e-03  5.24779409e-03 ... -1.25982135e-03\n",
            "    5.63787529e-04  1.04984306e-02]\n",
            "  [ 3.58541636e-03  5.84334321e-03  5.25974948e-03 ... -7.83398375e-03\n",
            "    3.33729712e-03  8.66568461e-03]\n",
            "  ...\n",
            "  [ 1.19559886e-03  8.82145716e-04 -2.52332818e-03 ... -1.01121096e-02\n",
            "   -7.32397602e-04  3.08798486e-03]\n",
            "  [ 6.49475260e-03  4.46098112e-03  1.18313357e-04 ... -1.46815358e-02\n",
            "    2.94557377e-03  1.50096253e-03]\n",
            "  [ 4.15764470e-03  3.86250019e-03  1.97052071e-03 ... -1.42328525e-02\n",
            "    1.25551061e-03  1.73028093e-04]]\n",
            "\n",
            " [[ 1.60421594e-03  4.73736506e-03  4.82324162e-04 ... -9.78677766e-04\n",
            "   -2.21143686e-03  1.12981524e-03]\n",
            "  [ 7.09863100e-03  8.39016028e-03  1.51634088e-03 ... -6.25624740e-03\n",
            "    1.44242286e-03  9.34750191e-04]\n",
            "  [ 2.30670813e-03  3.64072830e-03 -3.53902578e-08 ... -7.83593208e-03\n",
            "    2.62471102e-03  2.76598474e-03]\n",
            "  ...\n",
            "  [ 1.13178622e-02 -3.29413963e-03  8.14731512e-03 ...  2.35544052e-04\n",
            "    1.75611943e-03 -4.30598669e-03]\n",
            "  [ 1.50738787e-02 -2.34814291e-03  8.41148756e-03 ...  2.57396954e-03\n",
            "   -1.33698550e-03 -7.76348310e-03]\n",
            "  [ 1.70704387e-02 -2.17813533e-03  7.91930128e-03 ...  3.60671408e-03\n",
            "   -3.71971796e-03 -1.01978946e-02]]\n",
            "\n",
            " ...\n",
            "\n",
            " [[ 6.39477139e-03  5.08602057e-03  1.20216247e-03 ... -5.94149996e-03\n",
            "    3.20452522e-03 -4.33218200e-04]\n",
            "  [-3.47735314e-03  3.92837729e-03  4.82484279e-03 ... -6.63878955e-03\n",
            "    4.82034544e-03  1.21948379e-03]\n",
            "  [ 5.87469339e-03 -1.14019588e-03  9.66245588e-03 ... -6.20740699e-03\n",
            "    5.94944321e-03 -4.24836576e-03]\n",
            "  ...\n",
            "  [ 2.23803055e-03 -1.15591781e-02  1.18561247e-02 ... -5.71455341e-03\n",
            "   -9.15368646e-03 -8.36716313e-03]\n",
            "  [ 4.67110472e-03 -1.15845622e-02  1.01857493e-02 ... -6.36736117e-03\n",
            "   -6.51997328e-03 -9.58552677e-03]\n",
            "  [ 9.65662766e-03 -4.14146250e-03  1.07203936e-02 ... -9.01836157e-03\n",
            "   -1.84250704e-03 -8.75975657e-03]]\n",
            "\n",
            " [[-5.81488363e-04  3.80097795e-03  7.29670376e-03 ...  1.24261575e-03\n",
            "    1.99237722e-03  5.83945028e-03]\n",
            "  [ 6.65340479e-03  7.67721608e-03  7.10776169e-03 ... -5.27158380e-03\n",
            "    4.57415730e-03  3.81183764e-03]\n",
            "  [ 7.13209901e-03  7.21234549e-03  3.78289097e-03 ... -6.28118031e-03\n",
            "    2.25596968e-03  2.71817739e-03]\n",
            "  ...\n",
            "  [ 3.92727647e-03 -6.08065631e-03 -2.32565450e-03 ... -1.04812011e-02\n",
            "    1.20747718e-05 -2.17282097e-03]\n",
            "  [ 3.81593127e-03 -4.62106196e-04 -4.74918168e-04 ... -7.81045388e-03\n",
            "   -1.56741624e-03 -6.10516698e-04]\n",
            "  [ 8.28631874e-03  3.99615662e-03  1.52564980e-03 ... -1.07939634e-02\n",
            "    2.50997813e-03 -6.18055987e-04]]\n",
            "\n",
            " [[-5.81488363e-04  3.80097795e-03  7.29670376e-03 ...  1.24261575e-03\n",
            "    1.99237722e-03  5.83945028e-03]\n",
            "  [ 6.65340479e-03  7.67721608e-03  7.10776169e-03 ... -5.27158380e-03\n",
            "    4.57415730e-03  3.81183764e-03]\n",
            "  [ 4.01111320e-03  2.75668595e-03  8.46446026e-03 ... -4.23630886e-03\n",
            "    2.60368455e-03  2.24797754e-03]\n",
            "  ...\n",
            "  [-7.71799497e-03  2.97907600e-03  3.93394474e-03 ... -4.99435840e-03\n",
            "   -5.09585114e-03 -1.44208665e-03]\n",
            "  [-4.41201730e-03  1.11559441e-03  7.10358843e-04 ... -6.11772621e-03\n",
            "   -8.71195178e-03 -5.68795670e-03]\n",
            "  [-1.10655185e-02 -3.98211228e-03 -1.06479460e-03 ... -7.92412832e-03\n",
            "   -1.02580236e-02 -3.84851824e-03]]], shape=(64, 100, 65), dtype=float32)\n",
            "100\n",
            "tf.Tensor(\n",
            "[[ 8.5181342e-03  9.2280679e-04  4.4150706e-03 ...  3.5187849e-03\n",
            "  -7.7393517e-05 -1.5761642e-03]\n",
            " [ 1.2181949e-02  5.6731645e-03  5.0863633e-03 ... -3.6922805e-03\n",
            "   3.0725682e-03 -1.6578905e-03]\n",
            " [ 7.8499680e-03  8.4163994e-03  1.1938488e-02 ... -2.7641053e-03\n",
            "   4.0625837e-03  4.7181603e-03]\n",
            " ...\n",
            " [ 3.8956101e-03 -3.0510263e-03  1.1326586e-02 ...  4.6314206e-03\n",
            "  -2.4935829e-03  7.9742132e-04]\n",
            " [ 3.7723090e-03  2.2624824e-03  9.4017209e-03 ...  2.4169260e-03\n",
            "  -3.0283243e-03  1.0786828e-03]\n",
            " [ 7.9243677e-03  6.5579615e-03  8.3491728e-03 ... -3.9623175e-03\n",
            "   1.9696658e-03  2.2391975e-04]], shape=(100, 65), dtype=float32)\n",
            "65\n",
            "tf.Tensor(\n",
            "[ 8.5181342e-03  9.2280679e-04  4.4150706e-03  6.1503425e-04\n",
            "  9.9365145e-04 -3.5863519e-03  1.3105611e-03 -3.2726475e-03\n",
            "  2.4126982e-03  4.1644252e-04  2.5733304e-03  1.5851343e-03\n",
            " -9.7611541e-04 -6.2329811e-03  3.3392508e-03  1.7034110e-03\n",
            "  3.6573792e-03  1.4194204e-03 -2.8630714e-03  1.0723367e-03\n",
            "  5.5976850e-03 -2.2620021e-04  7.5881658e-03 -1.0619592e-04\n",
            "  1.0667121e-03 -1.0616056e-03  3.7934792e-03 -1.4009379e-03\n",
            "  3.0344422e-03  3.1209569e-03  6.3756453e-03  2.4499623e-03\n",
            " -4.6093669e-03 -1.6651048e-03  5.3715818e-03 -1.5729003e-03\n",
            " -7.3220936e-04  1.6149768e-03 -1.2080905e-03 -1.7083383e-03\n",
            " -7.7652355e-04  4.7916742e-03 -3.5133894e-04  3.4453301e-03\n",
            "  2.6104311e-03 -5.7612476e-03 -2.1216916e-03  8.6389272e-04\n",
            "  9.6542714e-04 -7.4188067e-03  4.6804296e-03 -1.0504226e-03\n",
            " -3.9631734e-03  4.2374330e-03 -1.5985037e-03  4.5530254e-04\n",
            "  5.7280617e-04 -4.9935202e-03 -5.0440370e-03  8.2630245e-04\n",
            " -1.1577277e-03  3.4547034e-03  3.5187849e-03 -7.7393517e-05\n",
            " -1.5761642e-03], shape=(65,), dtype=float32)\n"
          ]
        }
      ]
    },
    {
      "cell_type": "code",
      "source": [
        "#Compiling the model\n",
        "\n",
        "model.compile(optimizer='adam', loss=loss)\n"
      ],
      "metadata": {
        "id": "dztl5c3AzySc"
      },
      "execution_count": null,
      "outputs": []
    },
    {
      "cell_type": "code",
      "source": [
        "#Creating checkpoints in the model\n",
        "\n",
        "# Directory where the checkpoints will be saved\n",
        "checkpoint_dir = './training_checkpoints'\n",
        "# Name of the checkpoint files\n",
        "checkpoint_prefix = os.path.join(checkpoint_dir, \"ckpt_{epoch}\")\n",
        "\n",
        "checkpoint_callback=tf.keras.callbacks.ModelCheckpoint(\n",
        "    filepath=checkpoint_prefix,\n",
        "    save_weights_only=True)\n"
      ],
      "metadata": {
        "id": "krJAlqTvz1Kz"
      },
      "execution_count": null,
      "outputs": []
    }
  ]
}